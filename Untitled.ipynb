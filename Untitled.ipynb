{
 "cells": [
  {
   "cell_type": "code",
   "execution_count": 4,
   "metadata": {},
   "outputs": [],
   "source": [
    "import numpy as np\n",
    "import matplotlib.pyplot as plt"
   ]
  },
  {
   "cell_type": "code",
   "execution_count": 20,
   "metadata": {},
   "outputs": [
    {
     "name": "stdout",
     "output_type": "stream",
     "text": [
      "19.896053081899773\n"
     ]
    },
    {
     "data": {
      "image/png": "[encoded data removed]",
      "text/plain": [
       "<Figure size 432x288 with 1 Axes>"
      ]
     },
     "metadata": {
      "needs_background": "light"
     },
     "output_type": "display_data"
    }
   ],
   "source": [
    "n= 100000\n",
    "\n",
    "exponential_dist= np.random.exponential(20,n)\n",
    "#print(exponential_dist)\n",
    "mean= np.mean(exponential_dist)\n",
    "#print(mean)\n",
    "\n",
    "for i in range(6):\n",
    "    sample= np.random.choice(exponential_dist,np.random.randint(100001,size=1))\n",
    "    #print(np.mean(sample),'\\n')\n",
    "\n",
    "sample_10_percent= np.random.choice(exponential_dist,10000)\n",
    "print(np.mean(sample_10_percent))\n",
    "\n",
    "mean_list=[]\n",
    "for i in range(100):\n",
    "    sample= np.random.choice(sample_10_percent,np.random.randint(10001,size=1))\n",
    "    mean_list.append(np.mean(sample))\n",
    "    \n",
    "mean_array= np.asarray(mean_list)\n",
    "plt.hist(mean_array)\n",
    "plt.show()\n"
   ]
  },
  {
   "cell_type": "code",
   "execution_count": null,
   "metadata": {},
   "outputs": [],
   "source": [
    "std= np.std(exponential_dist)\n",
    "plt.hist(exponential_dist)\n",
    "plt.axvline(x=mean,color='black')\n",
    "plt.axvline(x=std,color='yellow')\n",
    "plt.show()"
   ]
  }
 ],
 "metadata": {
  "kernelspec": {
   "display_name": "Python 3",
   "language": "python",
   "name": "python3"
  },
  "language_info": {
   "codemirror_mode": {
    "name": "ipython",
    "version": 3
   },
   "file_extension": ".py",
   "mimetype": "text/x-python",
   "name": "python",
   "nbconvert_exporter": "python",
   "pygments_lexer": "ipython3",
   "version": "3.7.6"
  }
 },
 "nbformat": 4,
 "nbformat_minor": 4
}
