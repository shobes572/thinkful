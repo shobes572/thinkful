{
 "cells": [
  {
   "cell_type": "markdown",
   "metadata": {},
   "source": [
    "Generate a series of 10, 100 and 1000 numbers, each between 1 and 10. Find the descriptive statistics for each using scipy."
   ]
  },
  {
   "cell_type": "code",
   "execution_count": 6,
   "metadata": {},
   "outputs": [],
   "source": [
    "import numpy as np\n",
    "from scipy import stats"
   ]
  },
  {
   "cell_type": "code",
   "execution_count": 12,
   "metadata": {},
   "outputs": [],
   "source": [
    "x= np.random.choice(11,10)\n",
    "y= np.random.choice(11,100)\n",
    "z= np.random.choice(11,1000)"
   ]
  },
  {
   "cell_type": "code",
   "execution_count": 15,
   "metadata": {},
   "outputs": [
    {
     "name": "stdout",
     "output_type": "stream",
     "text": [
      "DescribeResult(nobs=10, minmax=(2, 9), mean=5.4, variance=4.933333333333334, skewness=0.10774225897731024, kurtosis=-0.9963476990504017) \n",
      "\n",
      "DescribeResult(nobs=100, minmax=(0, 10), mean=5.13, variance=10.922323232323235, skewness=-0.02219831833394908, kurtosis=-1.4055874778326942) \n",
      "\n",
      "DescribeResult(nobs=1000, minmax=(0, 10), mean=5.046, variance=9.72560960960961, skewness=-0.05682369358600208, kurtosis=-1.1810360892032898) \n",
      "\n"
     ]
    }
   ],
   "source": [
    "print(scipy.stats.describe(x),'\\n')\n",
    "print(scipy.stats.describe(y),'\\n')\n",
    "print(scipy.stats.describe(z),'\\n')\n"
   ]
  },
  {
   "cell_type": "code",
   "execution_count": null,
   "metadata": {},
   "outputs": [],
   "source": []
  }
 ],
 "metadata": {
  "kernelspec": {
   "display_name": "Python 3",
   "language": "python",
   "name": "python3"
  },
  "language_info": {
   "codemirror_mode": {
    "name": "ipython",
    "version": 3
   },
   "file_extension": ".py",
   "mimetype": "text/x-python",
   "name": "python",
   "nbconvert_exporter": "python",
   "pygments_lexer": "ipython3",
   "version": "3.7.6"
  }
 },
 "nbformat": 4,
 "nbformat_minor": 4
}
